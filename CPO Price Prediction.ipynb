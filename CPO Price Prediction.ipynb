{
 "cells": [
  {
   "cell_type": "markdown",
   "id": "80494f3f",
   "metadata": {},
   "source": [
    "# Crude Palm Oil Spot Price Prediction with Multivariate LSTM Model\n",
    "\n",
    "**Name** : Loke Jenn Hong  \n",
    "**Github** : <https://github.com/jhloke-24/CPO-Price-Prediction>"
   ]
  },
  {
   "cell_type": "markdown",
   "id": "ab291254",
   "metadata": {},
   "source": [
    "**Summary** \n",
    "\n",
    "(1) Crude palm oil (CPO) spot price prediction is a **multivariate time-series** problem that can be solved by **long short-term memory (LSTM)** model, which is a deep learning algorithm leveraging on recurrent neural network.\n",
    "\n",
    "(2) The model is evaluated goodness-of-fit and predictive power are evalaluated based on **Root Mean Square Error (RSME)**. This model serve as a preliminary model, future work to enhance the model performance includes (1) Hyper-parameter tuning. (2) Ingestion of daily data.\n",
    "\n",
    "(3) Production will take place in Google Colab, which will create an API to grab the data source from Git Hub repositories and ultimately output the prediction result in Google Colab server. The implemented model can be retrieved below:\n",
    "\n",
    "Google Lab Server : \n",
    "\n",
    "<https://colab.research.google.com/drive/1jog_Mk-V0Kznx7ohbI2Z_k8FVWmFvZeb#scrollTo=iGyKN1h_VMqa>"
   ]
  },
  {
   "cell_type": "markdown",
   "id": "eded77a3",
   "metadata": {},
   "source": [
    "Import crude palm oil (CPO) spot price data with other predictive factors including soybean, crude & gas oil price, USD-MYR exchange rate, ONI Index, and palm oil inventory data, and define data type, remove blank, rearrange feature columns etc."
   ]
  },
  {
   "cell_type": "code",
   "execution_count": 11,
   "id": "647205b9",
   "metadata": {},
   "outputs": [
    {
     "data": {
      "text/html": [
       "<div>\n",
       "<style scoped>\n",
       "    .dataframe tbody tr th:only-of-type {\n",
       "        vertical-align: middle;\n",
       "    }\n",
       "\n",
       "    .dataframe tbody tr th {\n",
       "        vertical-align: top;\n",
       "    }\n",
       "\n",
       "    .dataframe thead th {\n",
       "        text-align: right;\n",
       "    }\n",
       "</style>\n",
       "<table border=\"1\" class=\"dataframe\">\n",
       "  <thead>\n",
       "    <tr style=\"text-align: right;\">\n",
       "      <th></th>\n",
       "      <th>CPO</th>\n",
       "      <th>SBO</th>\n",
       "      <th>CO</th>\n",
       "      <th>GO</th>\n",
       "      <th>USD</th>\n",
       "      <th>ONI</th>\n",
       "      <th>POI</th>\n",
       "      <th>DIS</th>\n",
       "    </tr>\n",
       "    <tr>\n",
       "      <th>DATE2</th>\n",
       "      <th></th>\n",
       "      <th></th>\n",
       "      <th></th>\n",
       "      <th></th>\n",
       "      <th></th>\n",
       "      <th></th>\n",
       "      <th></th>\n",
       "      <th></th>\n",
       "    </tr>\n",
       "  </thead>\n",
       "  <tbody>\n",
       "    <tr>\n",
       "      <th>2005-01-31</th>\n",
       "      <td>1332.95</td>\n",
       "      <td>19.77</td>\n",
       "      <td>44.48</td>\n",
       "      <td>392.61</td>\n",
       "      <td>3.8000</td>\n",
       "      <td>0.6</td>\n",
       "      <td>1514.016</td>\n",
       "      <td>83.119</td>\n",
       "    </tr>\n",
       "    <tr>\n",
       "      <th>2005-02-28</th>\n",
       "      <td>1316.34</td>\n",
       "      <td>20.11</td>\n",
       "      <td>45.86</td>\n",
       "      <td>408.81</td>\n",
       "      <td>3.8000</td>\n",
       "      <td>0.6</td>\n",
       "      <td>1536.907</td>\n",
       "      <td>83.721</td>\n",
       "    </tr>\n",
       "    <tr>\n",
       "      <th>2005-03-31</th>\n",
       "      <td>1428.14</td>\n",
       "      <td>23.31</td>\n",
       "      <td>53.27</td>\n",
       "      <td>481.50</td>\n",
       "      <td>3.8000</td>\n",
       "      <td>0.4</td>\n",
       "      <td>1437.493</td>\n",
       "      <td>82.887</td>\n",
       "    </tr>\n",
       "    <tr>\n",
       "      <th>2005-04-29</th>\n",
       "      <td>1433.85</td>\n",
       "      <td>22.62</td>\n",
       "      <td>53.31</td>\n",
       "      <td>486.35</td>\n",
       "      <td>3.8000</td>\n",
       "      <td>0.4</td>\n",
       "      <td>1488.828</td>\n",
       "      <td>84.267</td>\n",
       "    </tr>\n",
       "    <tr>\n",
       "      <th>2005-05-31</th>\n",
       "      <td>1413.84</td>\n",
       "      <td>22.79</td>\n",
       "      <td>49.67</td>\n",
       "      <td>447.86</td>\n",
       "      <td>3.8000</td>\n",
       "      <td>0.3</td>\n",
       "      <td>1295.309</td>\n",
       "      <td>85.684</td>\n",
       "    </tr>\n",
       "    <tr>\n",
       "      <th>...</th>\n",
       "      <td>...</td>\n",
       "      <td>...</td>\n",
       "      <td>...</td>\n",
       "      <td>...</td>\n",
       "      <td>...</td>\n",
       "      <td>...</td>\n",
       "      <td>...</td>\n",
       "      <td>...</td>\n",
       "    </tr>\n",
       "    <tr>\n",
       "      <th>2017-08-31</th>\n",
       "      <td>2647.61</td>\n",
       "      <td>33.92</td>\n",
       "      <td>51.87</td>\n",
       "      <td>481.77</td>\n",
       "      <td>4.2842</td>\n",
       "      <td>-0.1</td>\n",
       "      <td>1941.717</td>\n",
       "      <td>93.175</td>\n",
       "    </tr>\n",
       "    <tr>\n",
       "      <th>2017-09-29</th>\n",
       "      <td>2776.75</td>\n",
       "      <td>34.32</td>\n",
       "      <td>55.51</td>\n",
       "      <td>530.50</td>\n",
       "      <td>4.2082</td>\n",
       "      <td>-0.4</td>\n",
       "      <td>2015.922</td>\n",
       "      <td>92.343</td>\n",
       "    </tr>\n",
       "    <tr>\n",
       "      <th>2017-10-31</th>\n",
       "      <td>2742.70</td>\n",
       "      <td>33.71</td>\n",
       "      <td>57.65</td>\n",
       "      <td>531.15</td>\n",
       "      <td>4.2298</td>\n",
       "      <td>-0.7</td>\n",
       "      <td>2203.383</td>\n",
       "      <td>93.712</td>\n",
       "    </tr>\n",
       "    <tr>\n",
       "      <th>2017-11-30</th>\n",
       "      <td>2654.14</td>\n",
       "      <td>34.41</td>\n",
       "      <td>62.87</td>\n",
       "      <td>559.45</td>\n",
       "      <td>4.1681</td>\n",
       "      <td>-0.9</td>\n",
       "      <td>2553.739</td>\n",
       "      <td>93.963</td>\n",
       "    </tr>\n",
       "    <tr>\n",
       "      <th>2017-12-29</th>\n",
       "      <td>2401.06</td>\n",
       "      <td>33.16</td>\n",
       "      <td>64.08</td>\n",
       "      <td>571.69</td>\n",
       "      <td>4.0775</td>\n",
       "      <td>-1.0</td>\n",
       "      <td>2732.093</td>\n",
       "      <td>93.398</td>\n",
       "    </tr>\n",
       "  </tbody>\n",
       "</table>\n",
       "<p>156 rows × 8 columns</p>\n",
       "</div>"
      ],
      "text/plain": [
       "                CPO    SBO     CO      GO     USD  ONI       POI     DIS\n",
       "DATE2                                                                   \n",
       "2005-01-31  1332.95  19.77  44.48  392.61  3.8000  0.6  1514.016  83.119\n",
       "2005-02-28  1316.34  20.11  45.86  408.81  3.8000  0.6  1536.907  83.721\n",
       "2005-03-31  1428.14  23.31  53.27  481.50  3.8000  0.4  1437.493  82.887\n",
       "2005-04-29  1433.85  22.62  53.31  486.35  3.8000  0.4  1488.828  84.267\n",
       "2005-05-31  1413.84  22.79  49.67  447.86  3.8000  0.3  1295.309  85.684\n",
       "...             ...    ...    ...     ...     ...  ...       ...     ...\n",
       "2017-08-31  2647.61  33.92  51.87  481.77  4.2842 -0.1  1941.717  93.175\n",
       "2017-09-29  2776.75  34.32  55.51  530.50  4.2082 -0.4  2015.922  92.343\n",
       "2017-10-31  2742.70  33.71  57.65  531.15  4.2298 -0.7  2203.383  93.712\n",
       "2017-11-30  2654.14  34.41  62.87  559.45  4.1681 -0.9  2553.739  93.963\n",
       "2017-12-29  2401.06  33.16  64.08  571.69  4.0775 -1.0  2732.093  93.398\n",
       "\n",
       "[156 rows x 8 columns]"
      ]
     },
     "execution_count": 11,
     "metadata": {},
     "output_type": "execute_result"
    }
   ],
   "source": [
    "import os\n",
    "import pandas as pd\n",
    "import numpy as np\n",
    "\n",
    "df = pd.read_csv(\"Assignment-monthlyexcerpt.csv\")\n",
    "\n",
    "#Drop blank rows & columns imported from the csv file\n",
    "df2 = df.dropna(axis=0,how=\"all\")\n",
    "df3 = df2.dropna(axis=1,how=\"all\")\n",
    "\n",
    "#Drop repeting date columns\n",
    "df4 = df3.iloc[1: , [0,1,3,5,7,9,11,13,15]]\n",
    "\n",
    "#Rename the fields\n",
    "df5a = df4.rename(columns= {'BO1 Comdty':'DATE', 'CBOT Soybean Oil Future':'SBO', \n",
    "                           'ICE Brent Crude Oil Future':'CO','ICE Gas Oil Future':'GO',\n",
    "                           'Crude Palm Oil fob Spot':'CPO','US DOLLAR/MALAYSIAN RINGGIT':'USD',\n",
    "                           'NOAA Oceanic Nino Index ONI':'ONI','Total Palm Oil Inventory Data':'POI',\n",
    "                           'DOLLAR INDEX SPOT':'DIS'})\n",
    "\n",
    "from datetime import datetime\n",
    "\n",
    "df5a['DATE2'] = None\n",
    "for i in df5a.index:\n",
    "    df5a['DATE2'][i] = datetime.strptime(df5a['DATE'][i], '%d-%m-%y').date()\n",
    "    \n",
    "df5 = df5a.set_index(\"DATE2\")\n",
    "df5 = df5.drop(columns=['DATE'])\n",
    "df6 = df5.apply(pd.to_numeric)\n",
    "df7 = df6[['CPO', 'SBO', 'CO', 'GO','USD','ONI','POI','DIS']]\n",
    "\n",
    "df7"
   ]
  },
  {
   "cell_type": "markdown",
   "id": "26d6bf32",
   "metadata": {},
   "source": [
    "As part of EDA, plot the monthly historial price for crude palm oil from Jan'15 - Dec'17."
   ]
  },
  {
   "cell_type": "code",
   "execution_count": 14,
   "id": "ea553300",
   "metadata": {},
   "outputs": [
    {
     "data": {
      "text/plain": [
       "Text(0, 0.5, 'CPO Spot Price')"
      ]
     },
     "execution_count": 14,
     "metadata": {},
     "output_type": "execute_result"
    },
    {
     "data": {
      "image/png": "[encoded data removed]",
      "text/plain": [
       "<Figure size 432x288 with 1 Axes>"
      ]
     },
     "metadata": {
      "needs_background": "light"
     },
     "output_type": "display_data"
    }
   ],
   "source": [
    "#Historical spot price for crude pal oil.\n",
    "import matplotlib.pyplot as plt\n",
    "plt.title('Historical Spot Price for Crude Palm Oil')\n",
    "plt.plot(df6['CPO'],color='b')\n",
    "plt.xlabel('Date')\n",
    "plt.ylabel('CPO Spot Price')"
   ]
  },
  {
   "cell_type": "markdown",
   "id": "70f11129",
   "metadata": {},
   "source": [
    "In essence, the steps below do 3 things:\n",
    "\n",
    "(1) Normalize the features and target variable to scale of (0,1) - This is to prevent the model feature dominants one another based on magnitute. \n",
    "\n",
    "(2) Split the data into train and test set in ratio of 8:2. \n",
    "\n",
    "(3) Reshape the data into readable input for LSTM model. We use past 3 months data (npast=3) to predict the SPO price. "
   ]
  },
  {
   "cell_type": "code",
   "execution_count": 19,
   "id": "d319176a",
   "metadata": {},
   "outputs": [
    {
     "name": "stdout",
     "output_type": "stream",
     "text": [
      "X_TRAIN Shape --  (122, 3, 8)\n",
      "Y_TRAIN Shape --  (122,)\n",
      "X_TEST Shape --  (28, 3, 8)\n",
      "Y_TEST Shape --  (28,)\n"
     ]
    }
   ],
   "source": [
    "import math\n",
    "from sklearn.preprocessing import MinMaxScaler\n",
    "\n",
    "#Define train & test test with ratio of 8:2.\n",
    "CPO_SPOT_VALUE = df6['CPO'].values\n",
    "TRAIN_IND = math.ceil(len(CPO_SPOT_VALUE)* 0.8)\n",
    "\n",
    "TRAIN = df7.iloc[:TRAIN_IND, :]\n",
    "TEST = df7.iloc[TRAIN_IND:, :]\n",
    "\n",
    "scaler = MinMaxScaler(feature_range=(0,1))\n",
    "\n",
    "TRAIN_SCALED = scaler.fit_transform(TRAIN)\n",
    "TEST_SCALED = scaler.fit_transform(TEST)\n",
    "\n",
    "# Split into Train and Test set ; Data Preperation into LSTM format\n",
    "def func(Data,npast):\n",
    "    dataX = []\n",
    "    dataY = []\n",
    "         \n",
    "    for i in range(npast,len(Data)):\n",
    "        dataX.append(Data[i - npast:i, 0:Data.shape[1]])\n",
    "        dataY.append(Data[i,0])\n",
    "    return np.array(dataX),np.array(dataY)\n",
    "\n",
    "#Use past 3 months data as prediction input\n",
    "npast = 3\n",
    "X_TRAIN, Y_TRAIN = func(TRAIN_SCALED,npast)   \n",
    "X_TEST, Y_TEST = func(TEST_SCALED,npast) \n",
    "        \n",
    "print(\"X_TRAIN Shape -- \",X_TRAIN.shape)\n",
    "print(\"Y_TRAIN Shape -- \",Y_TRAIN.shape)\n",
    "\n",
    "print(\"X_TEST Shape -- \",X_TEST.shape)\n",
    "print(\"Y_TEST Shape -- \",Y_TEST.shape)"
   ]
  },
  {
   "cell_type": "markdown",
   "id": "5c7e0b0c",
   "metadata": {},
   "source": [
    "Fitting the data into LSTM model. Here we attempt to do hyper-parameter tuning by using Grid Search."
   ]
  },
  {
   "cell_type": "code",
   "execution_count": 31,
   "id": "a7a91e9f",
   "metadata": {},
   "outputs": [
    {
     "name": "stdout",
     "output_type": "stream",
     "text": [
      "Model: \"sequential_50\"\n",
      "_________________________________________________________________\n",
      " Layer (type)                Output Shape              Param #   \n",
      "=================================================================\n",
      " lstm_100 (LSTM)             (None, 3, 5)              280       \n",
      "                                                                 \n",
      " lstm_101 (LSTM)             (None, 5)                 220       \n",
      "                                                                 \n",
      " dropout_50 (Dropout)        (None, 5)                 0         \n",
      "                                                                 \n",
      " dense_50 (Dense)            (None, 1)                 6         \n",
      "                                                                 \n",
      "=================================================================\n",
      "Total params: 506\n",
      "Trainable params: 506\n",
      "Non-trainable params: 0\n",
      "_________________________________________________________________\n"
     ]
    }
   ],
   "source": [
    "from tensorflow.keras.models import Sequential\n",
    "from tensorflow.keras.layers import LSTM\n",
    "from tensorflow.keras.layers import Dense, Dropout\n",
    "from keras.wrappers.scikit_learn import KerasRegressor\n",
    "from sklearn.model_selection import GridSearchCV\n",
    "\n",
    "def build_model(optimizer):\n",
    "    grid_model = Sequential()\n",
    "    grid_model.add(LSTM(5,return_sequences=True,input_shape=(npast,len(df7.columns))))\n",
    "    grid_model.add(LSTM(5))\n",
    "    grid_model.add(Dropout(0.2))\n",
    "    grid_model.add(Dense(1)) \n",
    "    grid_model.compile(loss = 'mse',optimizer = optimizer)\n",
    "    return grid_model \n",
    "\n",
    "grid_model = KerasRegressor(build_fn = build_model,verbose=1,validation_data=(X_TEST,Y_TEST))\n",
    "\n",
    "parameters = {'batch_size' : [1,1],\n",
    "              'epochs' : [1,1],\n",
    "              'optimizer' : ['adam','Adadelta'] }\n",
    "\n",
    "grid_search = GridSearchCV(estimator = grid_model,\n",
    "                            param_grid = parameters,\n",
    "                            cv = 2)\n",
    "\n",
    "grid_search = grid_search.fit(X_TRAIN,Y_TRAIN)\n",
    "\n",
    "grid_search.best_params_\n",
    "\n",
    "LSTM = grid_search.best_estimator_.model\n",
    "\n",
    "LSTM.summary()"
   ]
  },
  {
   "cell_type": "markdown",
   "id": "851de9e7",
   "metadata": {},
   "source": [
    "Compare actual vs prediction spot price, and evaluate the model performance based on **Root Mean Squared Error (RMSE)**."
   ]
  },
  {
   "cell_type": "code",
   "execution_count": 25,
   "id": "fada4c82",
   "metadata": {},
   "outputs": [
    {
     "name": "stdout",
     "output_type": "stream",
     "text": [
      "1/1 [==============================] - 0s 16ms/step\n"
     ]
    },
    {
     "data": {
      "image/png": "[encoded data removed]",
      "text/plain": [
       "<Figure size 432x288 with 1 Axes>"
      ]
     },
     "metadata": {
      "needs_background": "light"
     },
     "output_type": "display_data"
    },
    {
     "name": "stdout",
     "output_type": "stream",
     "text": [
      "RSME =  81.73960518973219\n"
     ]
    }
   ],
   "source": [
    "k=len(df7.columns)\n",
    "PRED = LSTM.predict(X_TEST)\n",
    "TEMP1 = np.repeat(PRED,k, axis=-1)\n",
    "PRED2 = scaler.inverse_transform(np.reshape(TEMP1,(len(PRED),k)))[:,0]\n",
    "\n",
    "ORI = np.repeat(Y_TEST,k, axis=-1)\n",
    "ORI2 = scaler.inverse_transform(np.reshape(ORI,(len(Y_TEST),k)))[:,0]\n",
    "\n",
    "import matplotlib.pyplot as plt\n",
    "plt.plot(list(TEST.iloc[3:,:].index),ORI2, color = 'red', label = 'Actual CPO Spot Price')\n",
    "plt.plot(list(TEST.iloc[3:,:].index),PRED2, color = 'blue', label = 'Predicted CPO Spot Price')\n",
    "plt.title('Actual vs Predicted CPO Spot Price')\n",
    "plt.xlabel('Time')\n",
    "plt.ylabel('CPO Spot Price')\n",
    "plt.xticks(rotation = 45)\n",
    "plt.legend()\n",
    "plt.show()\n",
    "\n",
    "#Model Evaluation - RSME\n",
    "RSME = np.sqrt(np.mean(PRED2 - ORI2)**2)\n",
    "print(\"RSME = \",RSME)"
   ]
  },
  {
   "cell_type": "markdown",
   "id": "061c92ff",
   "metadata": {},
   "source": [
    "**REMARK** : This serve as a preliminary model to demonstrate the application of multivariate LSTM model in SPO price prediction. Model performance can be improved by (1) Hyper-parameter tuning. (2) Ingestion of daily data. "
   ]
  },
  {
   "cell_type": "code",
   "execution_count": 27,
   "id": "b7cd0a2a",
   "metadata": {},
   "outputs": [
    {
     "name": "stdout",
     "output_type": "stream",
     "text": [
      "Next three months predicted spot price for CPO: \n",
      "           PRED\n",
      "25  2672.287598\n",
      "26  2704.500977\n",
      "27  2734.287598\n"
     ]
    }
   ],
   "source": [
    "#Predicted CPO spot price in next three months.\n",
    "PRED_N3MTH = pd.DataFrame(PRED2, columns = ['PRED'])[-3:]\n",
    "\n",
    "#Output the result\n",
    "PRED_N3MTH.to_csv(\"PRED_N3MTH.csv\", index=False)\n",
    "print(\"Next three months predicted spot price for CPO: \")\n",
    "print(PRED_N3MTH)"
   ]
  },
  {
   "cell_type": "markdown",
   "id": "e1752cbe",
   "metadata": {},
   "source": [
    "# Productionising the Model in Server \n",
    "\n",
    "\n",
    "For the next step, production will take place in Google Colab, which will create an API to grab the data source from Git Hub repositories and ultimately output the prediction result in Google Colab server. The implemented model can be retrieved below:\n",
    "\n",
    "Google Lab Server : <<https://colab.research.google.com/drive/1jog_Mk-V0Kznx7ohbI2Z_k8FVWmFvZeb#scrollTo=iGyKN1h_VMqa>>"
   ]
  }
 ],
 "metadata": {
  "kernelspec": {
   "display_name": "Python 3 (ipykernel)",
   "language": "python",
   "name": "python3"
  },
  "language_info": {
   "codemirror_mode": {
    "name": "ipython",
    "version": 3
   },
   "file_extension": ".py",
   "mimetype": "text/x-python",
   "name": "python",
   "nbconvert_exporter": "python",
   "pygments_lexer": "ipython3",
   "version": "3.9.12"
  }
 },
 "nbformat": 4,
 "nbformat_minor": 5
}
